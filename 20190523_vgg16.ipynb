{
  "nbformat": 4,
  "nbformat_minor": 0,
  "metadata": {
    "colab": {
      "name": "20190523_vgg16",
      "version": "0.3.2",
      "provenance": [],
      "collapsed_sections": [],
      "include_colab_link": true
    },
    "kernelspec": {
      "name": "python3",
      "display_name": "Python 3"
    },
    "accelerator": "GPU"
  },
  "cells": [
    {
      "cell_type": "markdown",
      "metadata": {
        "id": "view-in-github",
        "colab_type": "text"
      },
      "source": [
        "<a href=\"https://colab.research.google.com/github/poyashi/optuna/blob/master/20190523_vgg16.ipynb\" target=\"_parent\"><img src=\"https://colab.research.google.com/assets/colab-badge.svg\" alt=\"Open In Colab\"/></a>"
      ]
    },
    {
      "cell_type": "code",
      "metadata": {
        "id": "k30oZ62d-Jpg",
        "colab_type": "code",
        "colab": {
          "base_uri": "https://localhost:8080/",
          "height": 54
        },
        "outputId": "235d9ae7-cd28-477c-d158-9b2b307935ad"
      },
      "source": [
        "from google.colab import drive\n",
        "drive.mount('/content/drive')"
      ],
      "execution_count": 40,
      "outputs": [
        {
          "output_type": "stream",
          "text": [
            "Drive already mounted at /content/drive; to attempt to forcibly remount, call drive.mount(\"/content/drive\", force_remount=True).\n"
          ],
          "name": "stdout"
        }
      ]
    },
    {
      "cell_type": "code",
      "metadata": {
        "id": "tQiSCktKGiTF",
        "colab_type": "code",
        "colab": {}
      },
      "source": [
        ""
      ],
      "execution_count": 0,
      "outputs": []
    },
    {
      "cell_type": "code",
      "metadata": {
        "id": "n6_wFenA-Lkt",
        "colab_type": "code",
        "colab": {}
      },
      "source": [
        "from __future__ import print_function\n",
        "import keras\n",
        "from keras.preprocessing.image import ImageDataGenerator\n",
        "from keras.models import Sequential\n",
        "from keras.layers import Dense, Dropout, Activation, Flatten\n",
        "from keras.layers import Conv2D, MaxPooling2D\n",
        "from keras.layers import BatchNormalization\n",
        "import cv2\n",
        "import os\n",
        "import math\n",
        "import numpy as np\n",
        "import keras.callbacks\n",
        "import keras.backend.tensorflow_backend as KTF\n",
        "import tensorflow as tf\n",
        "import pandas as pd\n",
        "from sklearn.model_selection import train_test_split"
      ],
      "execution_count": 0,
      "outputs": []
    },
    {
      "cell_type": "code",
      "metadata": {
        "id": "NmCu8EFCqL_D",
        "colab_type": "code",
        "colab": {
          "base_uri": "https://localhost:8080/",
          "height": 309
        },
        "outputId": "219f3a8e-afb0-4bab-cb03-966c6d06f9f0"
      },
      "source": [
        "df5 = pd.read_csv(\n",
        "    './drive/My Drive/DeepFashion/Category and Attribute Prediction Benchmark/Anno/list_category_img.txt',\n",
        "    skiprows=1,\n",
        "    sep=r'\\s+')\n",
        "df6 = pd.read_csv(\n",
        "    './drive/My Drive/DeepFashion/Category and Attribute Prediction Benchmark/Anno/list_landmarks.txt',\n",
        "    skiprows=1,\n",
        "    sep=r'\\s+')\n",
        "df5_6 = pd.merge(df5, df6, on='image_name')\n",
        "df5_6.head()"
      ],
      "execution_count": 42,
      "outputs": [
        {
          "output_type": "execute_result",
          "data": {
            "text/html": [
              "<div>\n",
              "<style scoped>\n",
              "    .dataframe tbody tr th:only-of-type {\n",
              "        vertical-align: middle;\n",
              "    }\n",
              "\n",
              "    .dataframe tbody tr th {\n",
              "        vertical-align: top;\n",
              "    }\n",
              "\n",
              "    .dataframe thead th {\n",
              "        text-align: right;\n",
              "    }\n",
              "</style>\n",
              "<table border=\"1\" class=\"dataframe\">\n",
              "  <thead>\n",
              "    <tr style=\"text-align: right;\">\n",
              "      <th></th>\n",
              "      <th>image_name</th>\n",
              "      <th>category_label</th>\n",
              "      <th>clothes_type</th>\n",
              "      <th>variation_type</th>\n",
              "      <th>landmark_visibility_1</th>\n",
              "      <th>landmark_location_x_1</th>\n",
              "      <th>landmark_location_y_1</th>\n",
              "      <th>landmark_visibility_2</th>\n",
              "      <th>landmark_location_x_2</th>\n",
              "      <th>landmark_location_y_2</th>\n",
              "      <th>landmark_visibility_3</th>\n",
              "      <th>landmark_location_x_3</th>\n",
              "      <th>landmark_location_y_3</th>\n",
              "      <th>landmark_visibility_4</th>\n",
              "      <th>landmark_location_x_4</th>\n",
              "      <th>landmark_location_y_4</th>\n",
              "      <th>landmark_visibility_5</th>\n",
              "      <th>landmark_location_x_5</th>\n",
              "      <th>landmark_location_y_5</th>\n",
              "      <th>landmark_visibility_6</th>\n",
              "      <th>landmark_location_x_6</th>\n",
              "      <th>landmark_location_y_6</th>\n",
              "      <th>landmark_visibility_7</th>\n",
              "      <th>landmark_location_x_7</th>\n",
              "      <th>landmark_location_y_7</th>\n",
              "      <th>landmark_visibility_8</th>\n",
              "      <th>landmark_location_x_8</th>\n",
              "      <th>landmark_location_y_8</th>\n",
              "    </tr>\n",
              "  </thead>\n",
              "  <tbody>\n",
              "    <tr>\n",
              "      <th>0</th>\n",
              "      <td>img/Sheer_Pleated-Front_Blouse/img_00000001.jpg</td>\n",
              "      <td>3</td>\n",
              "      <td>1</td>\n",
              "      <td>0</td>\n",
              "      <td>146</td>\n",
              "      <td>102</td>\n",
              "      <td>0</td>\n",
              "      <td>173</td>\n",
              "      <td>95</td>\n",
              "      <td>0</td>\n",
              "      <td>94</td>\n",
              "      <td>242</td>\n",
              "      <td>0</td>\n",
              "      <td>205</td>\n",
              "      <td>255</td>\n",
              "      <td>0.0</td>\n",
              "      <td>136.0</td>\n",
              "      <td>229.0</td>\n",
              "      <td>0.0</td>\n",
              "      <td>177.0</td>\n",
              "      <td>232.0</td>\n",
              "      <td>NaN</td>\n",
              "      <td>NaN</td>\n",
              "      <td>NaN</td>\n",
              "      <td>NaN</td>\n",
              "      <td>NaN</td>\n",
              "      <td>NaN</td>\n",
              "      <td>NaN</td>\n",
              "    </tr>\n",
              "    <tr>\n",
              "      <th>1</th>\n",
              "      <td>img/Sheer_Pleated-Front_Blouse/img_00000002.jpg</td>\n",
              "      <td>3</td>\n",
              "      <td>1</td>\n",
              "      <td>0</td>\n",
              "      <td>107</td>\n",
              "      <td>67</td>\n",
              "      <td>0</td>\n",
              "      <td>122</td>\n",
              "      <td>67</td>\n",
              "      <td>0</td>\n",
              "      <td>79</td>\n",
              "      <td>78</td>\n",
              "      <td>0</td>\n",
              "      <td>140</td>\n",
              "      <td>91</td>\n",
              "      <td>0.0</td>\n",
              "      <td>106.0</td>\n",
              "      <td>150.0</td>\n",
              "      <td>0.0</td>\n",
              "      <td>134.0</td>\n",
              "      <td>152.0</td>\n",
              "      <td>NaN</td>\n",
              "      <td>NaN</td>\n",
              "      <td>NaN</td>\n",
              "      <td>NaN</td>\n",
              "      <td>NaN</td>\n",
              "      <td>NaN</td>\n",
              "      <td>NaN</td>\n",
              "    </tr>\n",
              "    <tr>\n",
              "      <th>2</th>\n",
              "      <td>img/Sheer_Pleated-Front_Blouse/img_00000003.jpg</td>\n",
              "      <td>3</td>\n",
              "      <td>1</td>\n",
              "      <td>0</td>\n",
              "      <td>101</td>\n",
              "      <td>79</td>\n",
              "      <td>0</td>\n",
              "      <td>116</td>\n",
              "      <td>76</td>\n",
              "      <td>0</td>\n",
              "      <td>78</td>\n",
              "      <td>81</td>\n",
              "      <td>0</td>\n",
              "      <td>141</td>\n",
              "      <td>84</td>\n",
              "      <td>0.0</td>\n",
              "      <td>87.0</td>\n",
              "      <td>188.0</td>\n",
              "      <td>0.0</td>\n",
              "      <td>118.0</td>\n",
              "      <td>185.0</td>\n",
              "      <td>NaN</td>\n",
              "      <td>NaN</td>\n",
              "      <td>NaN</td>\n",
              "      <td>NaN</td>\n",
              "      <td>NaN</td>\n",
              "      <td>NaN</td>\n",
              "      <td>NaN</td>\n",
              "    </tr>\n",
              "    <tr>\n",
              "      <th>3</th>\n",
              "      <td>img/Sheer_Pleated-Front_Blouse/img_00000004.jpg</td>\n",
              "      <td>3</td>\n",
              "      <td>1</td>\n",
              "      <td>0</td>\n",
              "      <td>96</td>\n",
              "      <td>74</td>\n",
              "      <td>0</td>\n",
              "      <td>113</td>\n",
              "      <td>72</td>\n",
              "      <td>0</td>\n",
              "      <td>67</td>\n",
              "      <td>171</td>\n",
              "      <td>0</td>\n",
              "      <td>148</td>\n",
              "      <td>171</td>\n",
              "      <td>0.0</td>\n",
              "      <td>100.0</td>\n",
              "      <td>148.0</td>\n",
              "      <td>0.0</td>\n",
              "      <td>120.0</td>\n",
              "      <td>148.0</td>\n",
              "      <td>NaN</td>\n",
              "      <td>NaN</td>\n",
              "      <td>NaN</td>\n",
              "      <td>NaN</td>\n",
              "      <td>NaN</td>\n",
              "      <td>NaN</td>\n",
              "      <td>NaN</td>\n",
              "    </tr>\n",
              "    <tr>\n",
              "      <th>4</th>\n",
              "      <td>img/Sheer_Pleated-Front_Blouse/img_00000005.jpg</td>\n",
              "      <td>3</td>\n",
              "      <td>1</td>\n",
              "      <td>1</td>\n",
              "      <td>102</td>\n",
              "      <td>106</td>\n",
              "      <td>0</td>\n",
              "      <td>116</td>\n",
              "      <td>102</td>\n",
              "      <td>0</td>\n",
              "      <td>63</td>\n",
              "      <td>194</td>\n",
              "      <td>1</td>\n",
              "      <td>146</td>\n",
              "      <td>216</td>\n",
              "      <td>0.0</td>\n",
              "      <td>105.0</td>\n",
              "      <td>245.0</td>\n",
              "      <td>0.0</td>\n",
              "      <td>137.0</td>\n",
              "      <td>246.0</td>\n",
              "      <td>NaN</td>\n",
              "      <td>NaN</td>\n",
              "      <td>NaN</td>\n",
              "      <td>NaN</td>\n",
              "      <td>NaN</td>\n",
              "      <td>NaN</td>\n",
              "      <td>NaN</td>\n",
              "    </tr>\n",
              "  </tbody>\n",
              "</table>\n",
              "</div>"
            ],
            "text/plain": [
              "                                        image_name  ...  landmark_location_y_8\n",
              "0  img/Sheer_Pleated-Front_Blouse/img_00000001.jpg  ...                    NaN\n",
              "1  img/Sheer_Pleated-Front_Blouse/img_00000002.jpg  ...                    NaN\n",
              "2  img/Sheer_Pleated-Front_Blouse/img_00000003.jpg  ...                    NaN\n",
              "3  img/Sheer_Pleated-Front_Blouse/img_00000004.jpg  ...                    NaN\n",
              "4  img/Sheer_Pleated-Front_Blouse/img_00000005.jpg  ...                    NaN\n",
              "\n",
              "[5 rows x 28 columns]"
            ]
          },
          "metadata": {
            "tags": []
          },
          "execution_count": 42
        }
      ]
    },
    {
      "cell_type": "code",
      "metadata": {
        "id": "2Yi9VyozAQAr",
        "colab_type": "code",
        "colab": {}
      },
      "source": [
        "folders = os.listdir('./drive/My Drive/img_short')"
      ],
      "execution_count": 0,
      "outputs": []
    },
    {
      "cell_type": "code",
      "metadata": {
        "id": "rGHXooqFSVA8",
        "colab_type": "code",
        "colab": {}
      },
      "source": [
        "h = 60\n",
        "w = 40"
      ],
      "execution_count": 0,
      "outputs": []
    },
    {
      "cell_type": "code",
      "metadata": {
        "id": "n6N8z5FJUSon",
        "colab_type": "code",
        "colab": {
          "base_uri": "https://localhost:8080/",
          "height": 119
        },
        "outputId": "5899e343-617e-49d5-8988-614850ca5273"
      },
      "source": [
        "X = []\n",
        "Y = []\n",
        "for i,folder in enumerate(folders):\n",
        "  print(folder + \" enter\")\n",
        "  names = os.listdir('./drive/My Drive/img_short/' + folder)\n",
        "  for j,name in enumerate(names):\n",
        "    im = cv2.imread('./drive/My Drive/img_short/' + folder + '/' + name)\n",
        "    im2 = cv2.resize(im, (w, h))\n",
        "    i = df5_6[df5_6.image_name == 'img/' + folder + '/' + name].clothes_type.values.tolist()\n",
        "    X.append(im2)\n",
        "    Y += i"
      ],
      "execution_count": 45,
      "outputs": [
        {
          "output_type": "stream",
          "text": [
            "2-in-1_Space_Dye_Athletic_Tank enter\n",
            "25_Mesh-Paneled_Jersey_Dress enter\n",
            "36_Plaid_Shirt_Dress enter\n",
            "1981_Graphic_Ringer_Tee enter\n",
            "Above_Average_Linen_Tee enter\n",
            "Abstract_Print_Maxi_Skirt enter\n"
          ],
          "name": "stdout"
        }
      ]
    },
    {
      "cell_type": "code",
      "metadata": {
        "id": "IZ84Jof3mTU3",
        "colab_type": "code",
        "colab": {}
      },
      "source": [
        "X = np.array(X)\n",
        "Y = np.array(Y)"
      ],
      "execution_count": 0,
      "outputs": []
    },
    {
      "cell_type": "code",
      "metadata": {
        "id": "LYWR0sQ7BaID",
        "colab_type": "code",
        "colab": {
          "base_uri": "https://localhost:8080/",
          "height": 51
        },
        "outputId": "500943ff-d304-4295-e087-b0a0a71cc95c"
      },
      "source": [
        "x_train, x_test, y_train, y_test = train_test_split(X, Y, train_size=0.8, random_state=0)\n",
        "print(x_train.shape[0], \"train samples\")\n",
        "print(x_test.shape[0], \"test samples\")"
      ],
      "execution_count": 47,
      "outputs": [
        {
          "output_type": "stream",
          "text": [
            "245 train samples\n",
            "62 test samples\n"
          ],
          "name": "stdout"
        }
      ]
    },
    {
      "cell_type": "code",
      "metadata": {
        "id": "rjX4z4tDmNFk",
        "colab_type": "code",
        "colab": {}
      },
      "source": [
        "batch_size = 32\n",
        "num_classes = 3\n",
        "epochs = 10\n",
        "data_augmentation = False"
      ],
      "execution_count": 0,
      "outputs": []
    },
    {
      "cell_type": "code",
      "metadata": {
        "id": "GAqDD0e3OKz4",
        "colab_type": "code",
        "colab": {}
      },
      "source": [
        "y_train = y_train-1\n",
        "y_test = y_test-1"
      ],
      "execution_count": 0,
      "outputs": []
    },
    {
      "cell_type": "code",
      "metadata": {
        "id": "wGQot9fVMVQf",
        "colab_type": "code",
        "colab": {}
      },
      "source": [
        "y_train = keras.utils.to_categorical(y_train, num_classes)\n",
        "y_test = keras.utils.to_categorical(y_test, num_classes)"
      ],
      "execution_count": 0,
      "outputs": []
    },
    {
      "cell_type": "code",
      "metadata": {
        "id": "FvQa23OpNA0m",
        "colab_type": "code",
        "colab": {}
      },
      "source": [
        "def model_family_cnn(input_shape, num_classes=3):\n",
        "    model = Sequential()\n",
        "    \n",
        "    # Block 1\n",
        "    model.add(Conv2D(64, (3, 3), input_shape=input_shape, name='conv1_1', activation='relu', padding='same'))\n",
        "    model.add(Conv2D(64, (3, 3),name='conv1_2', activation='relu', padding='same'))\n",
        "    model.add(BatchNormalization(axis=3))\n",
        "    model.add(MaxPooling2D(pool_size=(2, 2)))\n",
        "    model.add(Dropout(0.5))\n",
        "\n",
        "    # Block 2\n",
        "    model.add(Conv2D(128, (3, 3),name='conv2_1', activation='relu', padding='same'))\n",
        "    model.add(Conv2D(128, (3, 3),name='conv2_2', activation='relu', padding='same'))\n",
        "    model.add(BatchNormalization(axis=3))\n",
        "    model.add(MaxPooling2D(pool_size=(2, 2)))\n",
        "    model.add(Dropout(0.5))\n",
        "\n",
        "    # Block 3\n",
        "    model.add(Conv2D(256, (3, 3),name='conv3_1', activation='relu', padding='same'))\n",
        "    model.add(Conv2D(256, (3, 3),name='conv3_2', activation='relu', padding='same'))\n",
        "    model.add(Conv2D(256, (3, 3),name='conv3_3', activation='relu', padding='same'))\n",
        "    model.add(Conv2D(256, (3, 3),name='conv3_4', activation='relu', padding='same'))\n",
        "    model.add(BatchNormalization(axis=3))\n",
        "    model.add(MaxPooling2D(pool_size=(2, 2)))\n",
        "    model.add(Dropout(0.5))\n",
        "\n",
        "    # Block 4\n",
        "    model.add(Conv2D(512, (3, 3),name='conv4_1', activation='relu', padding='same'))\n",
        "    model.add(Conv2D(512, (3, 3),name='conv4_2', activation='relu', padding='same'))\n",
        "    model.add(Conv2D(512, (3, 3),name='conv4_3', activation='relu', padding='same'))\n",
        "    model.add(Conv2D(512, (3, 3),name='conv4_4', activation='relu', padding='same'))\n",
        "    model.add(BatchNormalization(axis=3))\n",
        "    model.add(MaxPooling2D(pool_size=(2, 2)))\n",
        "    model.add(Dropout(0.5))\n",
        "\n",
        "    # Block 5\n",
        "    model.add(Conv2D(512, (3, 3),name='conv5_1', activation='relu', padding='same'))\n",
        "    model.add(Conv2D(512, (3, 3),name='conv5_2', activation='relu', padding='same'))\n",
        "    model.add(Conv2D(512, (3, 3),name='conv5_3', activation='relu', padding='same'))\n",
        "    model.add(Conv2D(512, (3, 3),name='conv5_4', activation='relu', padding='same'))\n",
        "    model.add(BatchNormalization(axis=3))\n",
        "    model.add(MaxPooling2D(pool_size=(2, 2)))\n",
        "    model.add(Dropout(0.5))\n",
        "    \n",
        "    model.add(Flatten())\n",
        "    model.add(Dense(4096))\n",
        "    model.add(Activation('relu'))\n",
        "    model.add(Dropout(0.5))\n",
        "    model.add(Dense(num_classes))\n",
        "    model.add(Activation('softmax'))\n",
        "    return model\n"
      ],
      "execution_count": 0,
      "outputs": []
    },
    {
      "cell_type": "code",
      "metadata": {
        "id": "eYjFUWipTAeX",
        "colab_type": "code",
        "colab": {}
      },
      "source": [
        "input_shape = (h, w, 3)"
      ],
      "execution_count": 0,
      "outputs": []
    },
    {
      "cell_type": "code",
      "metadata": {
        "id": "u62HS1kETdWv",
        "colab_type": "code",
        "colab": {}
      },
      "source": [
        "old_session = KTF.get_session()"
      ],
      "execution_count": 0,
      "outputs": []
    },
    {
      "cell_type": "code",
      "metadata": {
        "id": "gCN0NeYwTgsj",
        "colab_type": "code",
        "colab": {}
      },
      "source": [
        "session = tf.Session('')\n",
        "KTF.set_session(session)\n",
        "KTF.set_learning_phase(1)\n"
      ],
      "execution_count": 0,
      "outputs": []
    },
    {
      "cell_type": "code",
      "metadata": {
        "id": "99jlMPFpTjam",
        "colab_type": "code",
        "colab": {}
      },
      "source": [
        "model = model_family_cnn(input_shape, num_classes = num_classes)"
      ],
      "execution_count": 0,
      "outputs": []
    },
    {
      "cell_type": "code",
      "metadata": {
        "id": "yRZDgX0rTmHG",
        "colab_type": "code",
        "colab": {}
      },
      "source": [
        "opt = keras.optimizers.rmsprop(lr=0.0001, decay=1e-6)"
      ],
      "execution_count": 0,
      "outputs": []
    },
    {
      "cell_type": "code",
      "metadata": {
        "id": "DbTLalInTqCG",
        "colab_type": "code",
        "colab": {}
      },
      "source": [
        "tb_cb = keras.callbacks.TensorBoard(log_dir=\"./tflog_vgg16/\", histogram_freq=1)"
      ],
      "execution_count": 0,
      "outputs": []
    },
    {
      "cell_type": "code",
      "metadata": {
        "id": "MQc83hBnTvF_",
        "colab_type": "code",
        "colab": {}
      },
      "source": [
        "cbks = [tb_cb]"
      ],
      "execution_count": 0,
      "outputs": []
    },
    {
      "cell_type": "code",
      "metadata": {
        "id": "rC_NML1QTyCP",
        "colab_type": "code",
        "colab": {}
      },
      "source": [
        "model.compile(loss='categorical_crossentropy',\n",
        "              optimizer=opt,\n",
        "              metrics=['accuracy'])\n"
      ],
      "execution_count": 0,
      "outputs": []
    },
    {
      "cell_type": "code",
      "metadata": {
        "id": "Q26ELigMT0R2",
        "colab_type": "code",
        "colab": {
          "base_uri": "https://localhost:8080/",
          "height": 1394
        },
        "outputId": "1e7c34d5-6abf-4dfe-f07c-5865b83f66c4"
      },
      "source": [
        "model.summary()"
      ],
      "execution_count": 60,
      "outputs": [
        {
          "output_type": "stream",
          "text": [
            "_________________________________________________________________\n",
            "Layer (type)                 Output Shape              Param #   \n",
            "=================================================================\n",
            "conv1_1 (Conv2D)             (None, 60, 40, 64)        1792      \n",
            "_________________________________________________________________\n",
            "conv1_2 (Conv2D)             (None, 60, 40, 64)        36928     \n",
            "_________________________________________________________________\n",
            "batch_normalization_6 (Batch (None, 60, 40, 64)        256       \n",
            "_________________________________________________________________\n",
            "max_pooling2d_6 (MaxPooling2 (None, 30, 20, 64)        0         \n",
            "_________________________________________________________________\n",
            "dropout_7 (Dropout)          (None, 30, 20, 64)        0         \n",
            "_________________________________________________________________\n",
            "conv2_1 (Conv2D)             (None, 30, 20, 128)       73856     \n",
            "_________________________________________________________________\n",
            "conv2_2 (Conv2D)             (None, 30, 20, 128)       147584    \n",
            "_________________________________________________________________\n",
            "batch_normalization_7 (Batch (None, 30, 20, 128)       512       \n",
            "_________________________________________________________________\n",
            "max_pooling2d_7 (MaxPooling2 (None, 15, 10, 128)       0         \n",
            "_________________________________________________________________\n",
            "dropout_8 (Dropout)          (None, 15, 10, 128)       0         \n",
            "_________________________________________________________________\n",
            "conv3_1 (Conv2D)             (None, 15, 10, 256)       295168    \n",
            "_________________________________________________________________\n",
            "conv3_2 (Conv2D)             (None, 15, 10, 256)       590080    \n",
            "_________________________________________________________________\n",
            "conv3_3 (Conv2D)             (None, 15, 10, 256)       590080    \n",
            "_________________________________________________________________\n",
            "conv3_4 (Conv2D)             (None, 15, 10, 256)       590080    \n",
            "_________________________________________________________________\n",
            "batch_normalization_8 (Batch (None, 15, 10, 256)       1024      \n",
            "_________________________________________________________________\n",
            "max_pooling2d_8 (MaxPooling2 (None, 7, 5, 256)         0         \n",
            "_________________________________________________________________\n",
            "dropout_9 (Dropout)          (None, 7, 5, 256)         0         \n",
            "_________________________________________________________________\n",
            "conv4_1 (Conv2D)             (None, 7, 5, 512)         1180160   \n",
            "_________________________________________________________________\n",
            "conv4_2 (Conv2D)             (None, 7, 5, 512)         2359808   \n",
            "_________________________________________________________________\n",
            "conv4_3 (Conv2D)             (None, 7, 5, 512)         2359808   \n",
            "_________________________________________________________________\n",
            "conv4_4 (Conv2D)             (None, 7, 5, 512)         2359808   \n",
            "_________________________________________________________________\n",
            "batch_normalization_9 (Batch (None, 7, 5, 512)         2048      \n",
            "_________________________________________________________________\n",
            "max_pooling2d_9 (MaxPooling2 (None, 3, 2, 512)         0         \n",
            "_________________________________________________________________\n",
            "dropout_10 (Dropout)         (None, 3, 2, 512)         0         \n",
            "_________________________________________________________________\n",
            "conv5_1 (Conv2D)             (None, 3, 2, 512)         2359808   \n",
            "_________________________________________________________________\n",
            "conv5_2 (Conv2D)             (None, 3, 2, 512)         2359808   \n",
            "_________________________________________________________________\n",
            "conv5_3 (Conv2D)             (None, 3, 2, 512)         2359808   \n",
            "_________________________________________________________________\n",
            "conv5_4 (Conv2D)             (None, 3, 2, 512)         2359808   \n",
            "_________________________________________________________________\n",
            "batch_normalization_10 (Batc (None, 3, 2, 512)         2048      \n",
            "_________________________________________________________________\n",
            "max_pooling2d_10 (MaxPooling (None, 1, 1, 512)         0         \n",
            "_________________________________________________________________\n",
            "dropout_11 (Dropout)         (None, 1, 1, 512)         0         \n",
            "_________________________________________________________________\n",
            "flatten_2 (Flatten)          (None, 512)               0         \n",
            "_________________________________________________________________\n",
            "dense_3 (Dense)              (None, 4096)              2101248   \n",
            "_________________________________________________________________\n",
            "activation_3 (Activation)    (None, 4096)              0         \n",
            "_________________________________________________________________\n",
            "dropout_12 (Dropout)         (None, 4096)              0         \n",
            "_________________________________________________________________\n",
            "dense_4 (Dense)              (None, 3)                 12291     \n",
            "_________________________________________________________________\n",
            "activation_4 (Activation)    (None, 3)                 0         \n",
            "=================================================================\n",
            "Total params: 22,143,811\n",
            "Trainable params: 22,140,867\n",
            "Non-trainable params: 2,944\n",
            "_________________________________________________________________\n"
          ],
          "name": "stdout"
        }
      ]
    },
    {
      "cell_type": "code",
      "metadata": {
        "id": "NHVF2wsLT2Pe",
        "colab_type": "code",
        "colab": {}
      },
      "source": [
        "x_train = x_train.astype('float32')\n",
        "x_test = x_test.astype('float32')\n",
        "x_train /= 255.\n",
        "x_test /= 255.\n"
      ],
      "execution_count": 0,
      "outputs": []
    },
    {
      "cell_type": "code",
      "metadata": {
        "id": "beyNIBvCUJCX",
        "colab_type": "code",
        "colab": {
          "base_uri": "https://localhost:8080/",
          "height": 462
        },
        "outputId": "d710de14-a116-440f-d107-082fa03654b1"
      },
      "source": [
        "if not data_augmentation:\n",
        "    print('Not using data augmentation.')\n",
        "    model.fit(x_train, y_train,\n",
        "              batch_size=batch_size,\n",
        "              epochs=epochs,\n",
        "#               callbacks=cbks,\n",
        "              validation_split=0.1\n",
        "             )\n",
        "else:\n",
        "    print('Using real-time data augmentation.')\n",
        "    # This will do preprocessing and realtime data augmentation:\n",
        "    datagen = ImageDataGenerator(\n",
        "        featurewise_center=False,  # set input mean to 0 over the dataset\n",
        "        samplewise_center=False,  # set each sample mean to 0\n",
        "        featurewise_std_normalization=False,  # divide inputs by std of the dataset\n",
        "        samplewise_std_normalization=False,  # divide each input by its std\n",
        "        zca_whitening=False,  # apply ZCA whitening\n",
        "        rotation_range=0,  # randomly rotate images in the range (degrees, 0 to 180)\n",
        "        width_shift_range=0.1,  # randomly shift images horizontally (fraction of total width)\n",
        "        height_shift_range=0.1,  # randomly shift images vertically (fraction of total height)\n",
        "        horizontal_flip=True,  # randomly flip images\n",
        "        vertical_flip=False)  # randomly flip images\n",
        "\n",
        "    # Compute quantities required for feature-wise normalization\n",
        "    # (std, mean, and principal components if ZCA whitening is applied).\n",
        "    datagen.fit(x_train)\n",
        "\n",
        "    # Fit the model on the batches generated by datagen.flow().\n",
        "    model.fit_generator(datagen.flow(x_train, y_train,\n",
        "                                     batch_size=batch_size),\n",
        "                        steps_per_epoch=x_train.shape[0] // batch_size,\n",
        "                        epochs=epochs,\n",
        "#                         callbacks=cbks,\n",
        "                        validation_data=(x_test, y_test))\n"
      ],
      "execution_count": 62,
      "outputs": [
        {
          "output_type": "stream",
          "text": [
            "Not using data augmentation.\n",
            "WARNING:tensorflow:From /usr/local/lib/python3.6/dist-packages/tensorflow/python/ops/math_ops.py:3066: to_int32 (from tensorflow.python.ops.math_ops) is deprecated and will be removed in a future version.\n",
            "Instructions for updating:\n",
            "Use tf.cast instead.\n",
            "Train on 220 samples, validate on 25 samples\n",
            "Epoch 1/10\n",
            "220/220 [==============================] - 7s 31ms/step - loss: 2.0828 - acc: 0.3545 - val_loss: 1.5705 - val_acc: 0.4400\n",
            "Epoch 2/10\n",
            "220/220 [==============================] - 0s 2ms/step - loss: 1.5973 - acc: 0.3773 - val_loss: 1.4320 - val_acc: 0.5600\n",
            "Epoch 3/10\n",
            "220/220 [==============================] - 0s 2ms/step - loss: 1.5652 - acc: 0.3909 - val_loss: 1.3184 - val_acc: 0.3600\n",
            "Epoch 4/10\n",
            "220/220 [==============================] - 0s 2ms/step - loss: 1.4124 - acc: 0.4727 - val_loss: 1.1473 - val_acc: 0.6000\n",
            "Epoch 5/10\n",
            "220/220 [==============================] - 0s 2ms/step - loss: 1.4013 - acc: 0.4909 - val_loss: 1.3494 - val_acc: 0.4800\n",
            "Epoch 6/10\n",
            "220/220 [==============================] - 0s 2ms/step - loss: 1.2058 - acc: 0.5227 - val_loss: 1.3501 - val_acc: 0.4400\n",
            "Epoch 7/10\n",
            "220/220 [==============================] - 0s 2ms/step - loss: 1.3717 - acc: 0.5000 - val_loss: 1.3170 - val_acc: 0.4400\n",
            "Epoch 8/10\n",
            "220/220 [==============================] - 0s 2ms/step - loss: 1.2290 - acc: 0.5227 - val_loss: 1.1411 - val_acc: 0.6000\n",
            "Epoch 9/10\n",
            "220/220 [==============================] - 0s 2ms/step - loss: 1.2038 - acc: 0.5591 - val_loss: 1.1540 - val_acc: 0.4800\n",
            "Epoch 10/10\n",
            "220/220 [==============================] - 0s 2ms/step - loss: 1.4822 - acc: 0.4955 - val_loss: 1.6055 - val_acc: 0.4400\n"
          ],
          "name": "stdout"
        }
      ]
    },
    {
      "cell_type": "code",
      "metadata": {
        "id": "KptmyS11Jy2J",
        "colab_type": "code",
        "colab": {}
      },
      "source": [
        ""
      ],
      "execution_count": 0,
      "outputs": []
    },
    {
      "cell_type": "markdown",
      "metadata": {
        "id": "Hu6MNxoWcv72",
        "colab_type": "text"
      },
      "source": [
        ""
      ]
    },
    {
      "cell_type": "code",
      "metadata": {
        "id": "pkkiHKz9VXFZ",
        "colab_type": "code",
        "colab": {
          "base_uri": "https://localhost:8080/",
          "height": 51
        },
        "outputId": "891e059b-70d1-48cc-f21c-279229c3a615"
      },
      "source": [
        "score = model.evaluate(x_test, y_test, verbose=0)\n",
        "print(\"Test loss:\", score[0])\n",
        "print(\"Test accuracy:\", score[1])"
      ],
      "execution_count": 63,
      "outputs": [
        {
          "output_type": "stream",
          "text": [
            "Test loss: 1.209571872988055\n",
            "Test accuracy: 0.6129032238837211\n"
          ],
          "name": "stdout"
        }
      ]
    },
    {
      "cell_type": "code",
      "metadata": {
        "id": "CSgLIznJYRbH",
        "colab_type": "code",
        "colab": {}
      },
      "source": [
        "KTF.set_session(old_session)"
      ],
      "execution_count": 0,
      "outputs": []
    },
    {
      "cell_type": "code",
      "metadata": {
        "id": "RTQo4DZVYyVn",
        "colab_type": "code",
        "colab": {}
      },
      "source": [
        ""
      ],
      "execution_count": 0,
      "outputs": []
    }
  ]
}